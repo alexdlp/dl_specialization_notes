{
 "cells": [
  {
   "cell_type": "markdown",
   "metadata": {},
   "source": [
    "# Redes neuronales convolucionales: paso a paso\n",
    "\n",
    "Esta es la primera tarea del Curso 4. En esta tarea se implementan capas de convolución (CONV) y de pooling (POOL) en numpy, incluyendo tanto el fordward propagation como el backward propagation.\n",
    "\n",
    "Al final de este cuaderno, serás capaz de:\n",
    "\n",
    "* Explicar la operación de convolución.\n",
    "* Aplicar dos tipos diferentes de operaciones de agrupamiento.\n",
    "* Identificar los componentes utilizados en una red neuronal convolucional (padding, stride, filtro, ...) y su propósito.\n",
    "* Construir una red neuronal convolucional.\n",
    "\n",
    "::: {.callout-tip title=\"**Notación**\" collapse=\"true\"}\n",
    "* El superíndice $[l]$ denota un objeto de la $l^{th}$ capa.\n",
    "\n",
    "    - Ejemplo: $a^{[4]}$ es la activación de la cuarta capa. $W^{[5]}$ y $b^{[5]}$ son los parámetros de la quinta capa.\n",
    "\n",
    "* El superíndice $(i)$ denota un objeto del $i^{th}$ ejemplo.\n",
    "\n",
    "    - Ejemplo: $x^{(i)}$ es la entrada del $i^{th}$ ejemplo de entrenamiento.\n",
    "\n",
    "* El subíndice $i$ denota la $i^{th}$ entrada de un vector.\n",
    "\n",
    "    - Ejemplo: $a^{[l]}_i$ denota la $i^{th}$ entrada de las activaciones en la capa $l$, asumiendo que esta es una capa fully connected (FC).\n",
    "\n",
    "* $n_H$, $n_W$ y $n_C$ denotan respectivamente la altura, anchura y número de canales de una capa dada. Si quieres referirte a una capa específica $l$, también puedes escribir $n_H^{[l]}$, $n_W^{[l]}$, $n_C^{[l]}$.\n",
    "\n",
    "* $n_{H_{prev}}$, $n_{W_{prev}}$ y $n_{C_{prev}}$ denotan respectivamente la altura, anchura y número de canales de la capa anterior. Si se hace referencia a una capa específica $l$, esto también podría denotarse como $n_H^{[l-1]}$, $n_W^{[l-1]}$, $n_C^{[l-1]}$\n",
    ":::\n",
    "\n",
    "## Contenidos\n",
    "\n",
    "- [1 - Librerías](#1)\n",
    "- [2 - Convolutional Neural Networks](#2)\n",
    "    - [2.1 - Zero-Padding](#2-1)\n"
   ]
  },
  {
   "cell_type": "markdown",
   "metadata": {},
   "source": [
    "<a name='1'></a>\n",
    "## 1 - Librerías"
   ]
  },
  {
   "cell_type": "code",
   "execution_count": 42,
   "metadata": {},
   "outputs": [
    {
     "name": "stdout",
     "output_type": "stream",
     "text": [
      "The autoreload extension is already loaded. To reload it, use:\n",
      "  %reload_ext autoreload\n"
     ]
    }
   ],
   "source": [
    "import numpy as np\n",
    "import matplotlib.pyplot as plt\n",
    "\n",
    "\n",
    "%matplotlib inline\n",
    "plt.rcParams['figure.figsize'] = (5.0, 4.0) # set default size of plots\n",
    "plt.rcParams['image.interpolation'] = 'nearest'\n",
    "plt.rcParams['image.cmap'] = 'gray'\n",
    "\n",
    "%load_ext autoreload\n",
    "%autoreload 2\n",
    "\n",
    "np.random.seed(1)"
   ]
  },
  {
   "cell_type": "markdown",
   "metadata": {},
   "source": [
    "<a name='2'></a>\n",
    "\n",
    "## 2 - Convolutional Neural Networks\n",
    "\n",
    "Una capa de convolución transforma un volumen de entrada en un volumen de salida de tamaño diferente, como se muestra a continuación:\n",
    "\n",
    "<p align=\"center\">\n",
    "    <img src=\"images/conv_nn.png\" style=\"width:350px;height:200px;\">\n",
    "</p>\n",
    "\n",
    "En esta parte, se construirán todos los pasos de la capa de convolución. Se comenzará implementando dos funciones auxiliares:  una para el zero-padding y otra para calcular la función de convolución en sí."
   ]
  },
  {
   "cell_type": "markdown",
   "metadata": {},
   "source": [
    "<a name='2-1'></a>\n",
    "\n",
    "### 2.1 - Zero-Padding\n",
    "\n",
    "<p align=\"center\">\n",
    "  <img src=\"images/PAD.png\" style=\"width:600px;height:400px;\">\n",
    "  <caption><center>\n",
    "    <u> \n",
    "      <b style='color: purple;'>Figure 1:</b>\n",
    "    </u> \n",
    "    <span style='color: purple;'><b>Zero-Padding</b><br> Image (3 channels, RGB) with a padding of 2.</span>\n",
    "  </center></caption>\n",
    "</p>\n",
    "\n",
    "Los principales beneficios del padding son:\n",
    "\n",
    "Permite utilizar una capa CONV sin reducir necesariamente la altura y el ancho de los volúmenes. Esto es importante para construir redes más profundas, ya que de lo contrario, la altura y el ancho disminuirían al avanzar hacia capas más profundas. Un caso especial importante es la convolución \"same\", en la que la altura y el ancho se preservan exactamente después de una capa.\n",
    "\n",
    "Ayuda a conservar más información en el borde de una imagen. Sin relleno, muy pocos valores en la capa siguiente se verían afectados por los píxeles en los bordes de una imagen.\n",
    "\n",
    "<a name='ex-1'></a>\n",
    "\n",
    "### Ejercicio 1 - zero_pad\n",
    "Se debe implementar la siguiente función, que añade zero-padding a todas las imágenes de un batch de ejemplos X. \n",
    "\n",
    "Por ejemplo, si se desea añadir un relleno de pad = 1 para la segunda dimensión, pad = 3 para la cuarta dimensión y pad = 0 para el resto a un array \"a\" de forma $(5,5,5,5,5)$, se haría de la siguiente manera:\n",
    "\n",
    "```python\n",
    "a = np.pad(a, ((0,0), (1,1), (0,0), (3,3), (0,0)), mode='constant', constant_values = (0,0))\n",
    "```\n"
   ]
  },
  {
   "cell_type": "code",
   "execution_count": 43,
   "metadata": {},
   "outputs": [],
   "source": [
    "def zero_pad(X, pad):\n",
    "    \"\"\"\n",
    "    Pad with zeros all images of the dataset X. The padding is applied to the height and width of an image, \n",
    "    as illustrated in Figure 1.\n",
    "    \n",
    "    Argument:\n",
    "    X -- python numpy array of shape (m, n_H, n_W, n_C) representing a batch of m images\n",
    "    pad -- integer, amount of padding around each image on vertical and horizontal dimensions\n",
    "    \n",
    "    Returns:\n",
    "    X_pad -- padded image of shape (m, n_H + 2 * pad, n_W + 2 * pad, n_C)\n",
    "    \"\"\"\n",
    "    \n",
    "    X_pad = np.pad(X,((0,0),(pad,pad),(pad,pad),(0,0)))\n",
    "      \n",
    "    return X_pad"
   ]
  },
  {
   "cell_type": "code",
   "execution_count": 62,
   "metadata": {},
   "outputs": [
    {
     "name": "stdout",
     "output_type": "stream",
     "text": [
      "Dimensiones del vector x: \t(4, 3, 3, 2)\n",
      "Dimensiones del vector x_pad: \t(4, 3, 3, 2)\n",
      "\n",
      "Contenido de x[1,1] =\n",
      " [[-0.34385368  0.04359686]\n",
      " [-0.62000084  0.69803203]\n",
      " [-0.44712856  1.2245077 ]]\n",
      "\n",
      "Contenido de x_pad[1,1] =\n",
      " [[0. 0.]\n",
      " [0. 0.]\n",
      " [0. 0.]\n",
      " [0. 0.]\n",
      " [0. 0.]\n",
      " [0. 0.]\n",
      " [0. 0.]\n",
      " [0. 0.]\n",
      " [0. 0.]]\n"
     ]
    },
    {
     "data": {
      "image/png": "[encoded data removed]",
      "text/plain": [
       "<Figure size 500x400 with 2 Axes>"
      ]
     },
     "metadata": {},
     "output_type": "display_data"
    }
   ],
   "source": [
    "# genero vector de números aleatorios (4 matrices de 3x3 con 2 canales)\n",
    "x = np.random.randn(4, 3, 3, 2)\n",
    "\n",
    "# le añado el padding (El tamaño del relleno es 3, lo que significa que se añaden 3 filas/columnas de ceros alrededor de cada matriz)\n",
    "x_pad = zero_pad(x, 3)\n",
    "\n",
    "print (f\"Dimensiones del vector x: \\t{x.shape}\")\n",
    "print (f\"Dimensiones del vector x_pad: \\t{x.shape}\")\n",
    "\n",
    "print (\"\\nContenido de x[1,1] =\\n\", x[1, 1])\n",
    "print (\"\\nContenido de x_pad[1,1] =\\n\", x_pad[1, 1])\n",
    "\n",
    "fig, axarr = plt.subplots(1, 2)\n",
    "axarr[0].set_title('x')\n",
    "axarr[0].imshow(x[0, :, :, 0])\n",
    "axarr[1].set_title('x_pad')\n",
    "axarr[1].imshow(x_pad[0, :, :, 0])\n",
    "plt.show()"
   ]
  },
  {
   "cell_type": "markdown",
   "metadata": {},
   "source": [
    "<a name='2-2'></a>\n",
    "\n",
    "### 2.2 - Un solo paso de la convolución\n",
    "\n",
    "En esta parte, se implementará un solo paso de la convolución, en el cual se aplciará el filtro a una única posición de la entrada. Esto se utilizará para construir una unidad convolucional, que:\n",
    "\n",
    "- Toma un volumen de entrada\n",
    "- Aplica un filtro en cada posición de la entrada\n",
    "- Produce otro volumen (generalmente de tamaño diferente)\n",
    "\n",
    "<p align=\"center\">\n",
    "  <img src=\"images/Convolution_schematic.gif\" style=\"width:500px;height:300px;\">\n",
    "  <caption><center>\n",
    "    <u> \n",
    "      <b style=\"color: purple;\">Figura 2:</b>\n",
    "    </u> \n",
    "    <span style='color: purple;'><b>Operación de convolución</b><br> Operación de convolución con un filtro de 3x3 y un paso de 1 (el paso es la cantidad que mueves la ventana cada vez que la deslizas)</span>\n",
    "  </center></caption>\n",
    "</p>\n",
    "\n",
    "En una aplicación de computer vision, cada valor en la matriz de la izquierda corresponde a un solo valor de píxel. Se convoluciona un filtro de 3x3 con la imagen multiplicando sus valores elemento a elemento (element-wise) con la matriz original, luego sumándolos y añadiendo un sesgo (bias). En este primer paso, se implementa un solo paso de la convolución, correspondiente a aplicar un filtro a solo una de las posiciones para obtener una única salida de valor real.\n",
    "\n",
    "\n",
    "<a name='ex-2'></a>\n",
    "\n",
    "### Ejercicio 2 - conv_single_step\n",
    "Implementa `conv_single_step()`."
   ]
  },
  {
   "cell_type": "code",
   "execution_count": 64,
   "metadata": {},
   "outputs": [],
   "source": [
    "def conv_single_step(a_slice_prev, W, b):\n",
    "    \"\"\"\n",
    "    Apply one filter defined by parameters W on a single slice (a_slice_prev) of the output activation \n",
    "    of the previous layer.\n",
    "    \n",
    "    Arguments:\n",
    "    a_slice_prev -- slice of input data of shape (f, f, n_C_prev)\n",
    "    W -- Weight parameters contained in a window - matrix of shape (f, f, n_C_prev)\n",
    "    b -- Bias parameters contained in a window - matrix of shape (1, 1, 1)\n",
    "    \n",
    "    Returns:\n",
    "    Z -- a scalar value, the result of convolving the sliding window (W, b) on a slice x of the input data\n",
    "    \"\"\"\n",
    "\n",
    "    # Element-wise product between a_slice_prev and W. Do not add the bias yet.\n",
    "    s = np.multiply(a_slice_prev,W)\n",
    "    # Sum over all entries of the volume s.\n",
    "    Z = np.sum(s)\n",
    "    # Add bias b to Z. Cast b to a float() so that Z results in a scalar value.\n",
    "    b = np.squeeze(b)\n",
    "    Z = Z + b\n",
    "    \n",
    "    return Z"
   ]
  },
  {
   "cell_type": "code",
   "execution_count": 65,
   "metadata": {},
   "outputs": [
    {
     "name": "stdout",
     "output_type": "stream",
     "text": [
      "Z = -6.999089450680221\n"
     ]
    }
   ],
   "source": [
    "a_slice_prev = np.random.randn(4, 4, 3)\n",
    "W = np.random.randn(4, 4, 3)\n",
    "b = np.random.randn(1, 1, 1)\n",
    "\n",
    "Z = conv_single_step(a_slice_prev, W, b)\n",
    "print(\"Z =\", Z)"
   ]
  },
  {
   "cell_type": "markdown",
   "metadata": {},
   "source": [
    "<a name='2-3'></a>\n",
    "\n",
    "### 2.3 - Convolutional Neural Networks - Forward Pass\n",
    "\n",
    "En el forward pass, se convolucionan múltiples filtros sobre la entrada. Cada 'convolución' proporciona una salida en forma de matriz 2D. Estas salidas se apilan para obtener un volumen 3D:\n",
    "\n",
    "<center>\n",
    "<video width=\"620\" height=\"440\" src=\"images/conv_kiank.mp4\" type=\"video/mp4\" controls>\n",
    "</video>\n",
    "</center>\n",
    "\n",
    "<a name='ex-3'></a>\n",
    "\n",
    "### Exercise 3 -  conv_forward\n",
    "Se implementará la función a continuación para convolucionar los filtros W sobre una activación de entrada A_prev.\n",
    "Esta función toma los siguientes parámetros:\n",
    "\n",
    "* `A_prev`, las activaciones producidas por la capa anterior (para un batc de $m$ entradas);\n",
    "* Los pesos se denotan con `W`. El tamaño de la ventana del filtro es $f x f$ .\n",
    "* El vector de sesgo es `b`, donde cada filtro tiene su propio sesgo (único).\n",
    "También se tiene acceso al diccionario de hiperparámetros, que contiene el paso (stride) y el relleno (padding).\n",
    "\n",
    "**Hint**: \n",
    "1. To select a 2x2 slice at the upper left corner of a matrix \"a_prev\" (shape (5,5,3)), you would do:\n",
    "```python\n",
    "a_slice_prev = a_prev[0:2,0:2,:]\n",
    "```\n",
    "Notice how this gives a 3D slice that has height 2, width 2, and depth 3.  Depth is the number of channels.  \n",
    "This will be useful when you will define `a_slice_prev` below, using the `start/end` indexes you will define.\n",
    "\n",
    "2. To define a_slice you will need to first define its corners `vert_start`, `vert_end`, `horiz_start` and `horiz_end`. This figure may be helpful for you to find out how each of the corners can be defined using h, w, f and s in the code below.\n",
    "\n",
    "<img src=\"images/vert_horiz_kiank.png\" style=\"width:400px;height:300px;\">\n",
    "<caption><center> <u> <font color='purple'> <b>Figure 3</b> </u><font color='purple'>  : <b>Definition of a slice using vertical and horizontal start/end (with a 2x2 filter)</b> <br> This figure shows only a single channel.  </center></caption>\n",
    "\n",
    "\n",
    "**Reminder**:\n",
    "    \n",
    "The formulas relating the output shape of the convolution to the input shape are:\n",
    "    \n",
    "$$n_H = \\Bigl\\lfloor \\frac{n_{H_{prev}} - f + 2 \\times pad}{stride} \\Bigr\\rfloor +1$$\n",
    "$$n_W = \\Bigl\\lfloor \\frac{n_{W_{prev}} - f + 2 \\times pad}{stride} \\Bigr\\rfloor +1$$\n",
    "$$n_C = \\text{number of filters used in the convolution}$$\n",
    "    \n",
    "\n",
    "\n",
    "\n",
    "For this exercise, don't worry about vectorization! Just implement everything with for-loops."
   ]
  },
  {
   "cell_type": "code",
   "execution_count": null,
   "metadata": {},
   "outputs": [],
   "source": []
  },
  {
   "cell_type": "code",
   "execution_count": null,
   "metadata": {},
   "outputs": [],
   "source": []
  },
  {
   "cell_type": "markdown",
   "metadata": {},
   "source": []
  }
 ],
 "metadata": {
  "kernelspec": {
   "display_name": "dl_book",
   "language": "python",
   "name": "python3"
  },
  "language_info": {
   "codemirror_mode": {
    "name": "ipython",
    "version": 3
   },
   "file_extension": ".py",
   "mimetype": "text/x-python",
   "name": "python",
   "nbconvert_exporter": "python",
   "pygments_lexer": "ipython3",
   "version": "3.11.5"
  }
 },
 "nbformat": 4,
 "nbformat_minor": 2
}
